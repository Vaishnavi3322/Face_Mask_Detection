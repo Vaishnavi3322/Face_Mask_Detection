{
  "nbformat": 4,
  "nbformat_minor": 0,
  "metadata": {
    "colab": {
      "provenance": [],
      "include_colab_link": true
    },
    "kernelspec": {
      "name": "python3",
      "display_name": "Python 3"
    },
    "language_info": {
      "name": "python"
    },
    "accelerator": "GPU"
  },
  "cells": [
    {
      "cell_type": "markdown",
      "metadata": {
        "id": "view-in-github",
        "colab_type": "text"
      },
      "source": [
        "<a href=\"https://colab.research.google.com/github/Vaishnavi3322/Face_Mask_Detection/blob/main/Face_Mask_Detection_.ipynb\" target=\"_parent\"><img src=\"https://colab.research.google.com/assets/colab-badge.svg\" alt=\"Open In Colab\"/></a>"
      ]
    },
    {
      "cell_type": "markdown",
      "source": [
        "## Download Dataset\n",
        "In this chapter, I downloaded dataset from the Kaggle."
      ],
      "metadata": {
        "id": "lToRXbLlhz-s"
      }
    },
    {
      "cell_type": "code",
      "source": [
        "!pip install -q kaggle"
      ],
      "metadata": {
        "id": "rJHasg4rhzi1"
      },
      "execution_count": null,
      "outputs": []
    },
    {
      "cell_type": "code",
      "source": [
        "!rm -r ~/.kaggle\n",
        "!mkdir ~/.kaggle\n",
        "!mv ./kaggle.json ~/.kaggle/\n",
        "!chmod 600 ~/.kaggle/kaggle.json"
      ],
      "metadata": {
        "id": "HnxbunCkHrE5"
      },
      "execution_count": null,
      "outputs": []
    },
    {
      "cell_type": "code",
      "source": [
        "!kaggle datasets download -d andrewmvd/face-mask-detection"
      ],
      "metadata": {
        "id": "fqlbwHYcIeGx"
      },
      "execution_count": null,
      "outputs": []
    },
    {
      "cell_type": "markdown",
      "source": [
        "In the below code, I did unzip."
      ],
      "metadata": {
        "id": "ZKUCD4vMDXXb"
      }
    },
    {
      "cell_type": "code",
      "source": [
        "!unzip \"/content/face-mask-detection.zip\" -d \"/content/face-mask-detection/\""
      ],
      "metadata": {
        "id": "mel4riV-6Tff"
      },
      "execution_count": null,
      "outputs": []
    },
    {
      "cell_type": "markdown",
      "source": [
        "# Data Rewiew\n",
        "In this chapter, I reviewed the data in the dataset."
      ],
      "metadata": {
        "id": "BvaCjEXt8es9"
      }
    },
    {
      "cell_type": "code",
      "source": [
        "# I import libraries that I will use.\n",
        "import numpy as np # linear algebra\n",
        "import pandas as pd # data processing, CSV file I/O (e.g. pd.read_csv)\n",
        "import matplotlib.pyplot as plt\n",
        "\n",
        "# For preparing\n",
        "import xml.etree.cElementTree as ET\n",
        "import glob\n",
        "import os\n",
        "import json\n",
        "import random\n",
        "import shutil\n",
        "\n",
        "from PIL import Image, ImageOps"
      ],
      "metadata": {
        "id": "a4EA5Ntgjn-w"
      },
      "execution_count": null,
      "outputs": []
    },
    {
      "cell_type": "markdown",
      "source": [
        "XML file of the image labeled in XML format."
      ],
      "metadata": {
        "id": "UZZhGq8SHedX"
      }
    },
    {
      "cell_type": "code",
      "source": [
        "with open('/content/face-mask-detection/annotations/maksssksksss0.xml') as f:\n",
        "    contents = f.read()\n",
        "    print(contents)"
      ],
      "metadata": {
        "id": "Aq97cRpj-I89"
      },
      "execution_count": null,
      "outputs": []
    },
    {
      "cell_type": "markdown",
      "source": [
        "I visualized a few images in the dataset."
      ],
      "metadata": {
        "id": "CP2SFYUMJfhx"
      }
    },
    {
      "cell_type": "code",
      "source": [
        "Image.open(\"/content/face-mask-detection/images/maksssksksss0.png\")"
      ],
      "metadata": {
        "id": "uoicM5haFlb3"
      },
      "execution_count": null,
      "outputs": []
    },
    {
      "cell_type": "code",
      "source": [
        "Image.open(\"/content/face-mask-detection/images/maksssksksss1.png\")"
      ],
      "metadata": {
        "id": "OUz7xV3eFsuK"
      },
      "execution_count": null,
      "outputs": []
    },
    {
      "cell_type": "code",
      "source": [
        "Image.open(\"/content/face-mask-detection/images/maksssksksss100.png\")"
      ],
      "metadata": {
        "id": "afG97fFYFwqC"
      },
      "execution_count": null,
      "outputs": []
    },
    {
      "cell_type": "code",
      "source": [
        "# creating a image1 object\n",
        "im1 = Image.open(r\"/content/face-mask-detection/images/maksssksksss100.png\")\n",
        "\n",
        "# applying grayscale method\n",
        "im2 = ImageOps.grayscale(im1)\n",
        "\n",
        "im2"
      ],
      "metadata": {
        "id": "6dit9w7QGJSj"
      },
      "execution_count": null,
      "outputs": []
    },
    {
      "cell_type": "markdown",
      "source": [
        "# Preparing DataSet\n",
        "In this chapter, I prepared the dataset for the yolov7."
      ],
      "metadata": {
        "id": "zFMvCZMthsN2"
      }
    },
    {
      "cell_type": "markdown",
      "source": [
        "## Translate \".xml\" format to \".txt\" format"
      ],
      "metadata": {
        "id": "UZU8N4ggixG6"
      }
    },
    {
      "cell_type": "code",
      "source": [
        "def xml_to_yolo_bbox(bbox, w, h):\n",
        "    # xmin, ymin, xmax, ymax\n",
        "    x_center = ((bbox[2] + bbox[0]) / 2) / w\n",
        "    y_center = ((bbox[3] + bbox[1]) / 2) / h\n",
        "\n",
        "    width = (bbox[2] - bbox[0]) / w\n",
        "    height = (bbox[3] - bbox[1]) / h\n",
        "\n",
        "    return [x_center, y_center, width, height]\n",
        "\n",
        "def yolo_to_xml_bbox(bbox, w, h):\n",
        "    # x_center, y_center, width, height\n",
        "    w_half_len = (bbox[2] * w) / 2\n",
        "    h_half_len = (bbox[3] * h) / 2\n",
        "\n",
        "    xmin = int((bbox[0] * w) - w_half_len)\n",
        "    ymin = int((bbox[1] * h) - h_half_len)\n",
        "    xmax = int((bbox[0] * w) + w_half_len)\n",
        "    ymax = int((bbox[1] * h) + h_half_len)\n",
        "\n",
        "    return [xmin, ymin, xmax, ymax]\n",
        "\n",
        "classes = []\n",
        "\n",
        "input_dir = \"/content/face-mask-detection/annotations\"\n",
        "output_dir = \"/content/labels\"\n",
        "image_dir = \"/content/face-mask-detection/images\"\n",
        "\n",
        "os.mkdir(output_dir)\n",
        "\n",
        "if not os.path.isdir(output_dir):\n",
        "    os.mkdir(output_dir)\n",
        "\n",
        "import glob\n",
        "\n",
        "files = glob.glob(os.path.join(input_dir, \"*.xml\"))\n",
        "for fil in files:\n",
        "    basename = os.path.basename(fil)\n",
        "    filename = os.path.splitext(basename)[0]\n",
        "    if not os.path.exists(os.path.join(image_dir, f\"{filename}.png\")):\n",
        "        print(f\"{filename} image does not exist!\")\n",
        "        continue\n",
        "\n",
        "    result = []\n",
        "\n",
        "    # Parse the content of the xml file\n",
        "    tree = ET.parse(fil)\n",
        "    root = tree.getroot()\n",
        "    width = int(root.find(\"size\").find(\"width\").text)\n",
        "    height = int(root.find(\"size\").find(\"height\").text)\n",
        "\n",
        "    for obj in root.findall(\"object\"):\n",
        "        label = obj.find(\"name\").text\n",
        "\n",
        "        # check for new classes and append to list\n",
        "        if label not in classes:\n",
        "            classes.append(label)\n",
        "        index = classes.index(label)\n",
        "        pil_bbox = [int(x.text) for x in obj.find(\"bndbox\")]\n",
        "        yolo_bbox = xml_to_yolo_bbox(pil_bbox, width, height)\n",
        "\n",
        "        # convert data to string\n",
        "        bbox_string = \" \".join([str(x) for x in yolo_bbox])\n",
        "        result.append(f\"{index} {bbox_string}\")\n",
        "\n",
        "    if result:\n",
        "        # generate a yolo format text file for each xml file\n",
        "        with open(os.path.join(output_dir, f\"{filename}.txt\"), \"w\", encoding = \"utf-8\") as f:\n",
        "            f.write(\"\\n\".join(result))\n",
        "# generate the classes file as reference\n",
        "with open(\"/content/classes.txt\", \"w\", encoding = \"utf-8\") as f:\n",
        "    f.write(json.dumps(classes))"
      ],
      "metadata": {
        "id": "CikwK_VPi3xe"
      },
      "execution_count": null,
      "outputs": []
    },
    {
      "cell_type": "markdown",
      "source": [
        "In the below code, I specified the classes of the dataset."
      ],
      "metadata": {
        "id": "t1aHFhHeLkDe"
      }
    },
    {
      "cell_type": "code",
      "source": [
        "with open('/content/classes.txt') as f:\n",
        "    contents = f.read()\n",
        "    print(contents)"
      ],
      "metadata": {
        "id": "bnK3Xe98jtIQ"
      },
      "execution_count": null,
      "outputs": []
    },
    {
      "cell_type": "code",
      "source": [
        "Image.open(\"/content/face-mask-detection/images/maksssksksss0.png\")"
      ],
      "metadata": {
        "id": "qzbYT2YUlS5B"
      },
      "execution_count": null,
      "outputs": []
    },
    {
      "cell_type": "markdown",
      "source": [
        "xml format of the maksssksksss0 image"
      ],
      "metadata": {
        "id": "TMEgmolXMa_K"
      }
    },
    {
      "cell_type": "code",
      "source": [
        "with open('/content/face-mask-detection/annotations/maksssksksss0.xml') as f:\n",
        "    contents = f.read()\n",
        "    print(contents)"
      ],
      "metadata": {
        "id": "xIF2sEX2kLV3"
      },
      "execution_count": null,
      "outputs": []
    },
    {
      "cell_type": "markdown",
      "source": [
        "txt format of the maksssksksss0 image"
      ],
      "metadata": {
        "id": "-xV8JfqGM1fY"
      }
    },
    {
      "cell_type": "code",
      "source": [
        "with open('/content/labels/maksssksksss0.txt') as f:\n",
        "    contents = f.read()\n",
        "    print(contents)"
      ],
      "metadata": {
        "id": "WzsBNl81kHbg"
      },
      "execution_count": null,
      "outputs": []
    },
    {
      "cell_type": "markdown",
      "source": [
        "## Create Dataset For Yolov7\n",
        "In this chapter, I created a dataset for yolov7."
      ],
      "metadata": {
        "id": "ZO48AMjH7mek"
      }
    },
    {
      "cell_type": "code",
      "source": [
        "os.mkdir(\"/content/data/\")\n",
        "os.mkdir('/content/data/train')\n",
        "os.mkdir('/content/data/val')\n",
        "os.mkdir('/content/data/test')\n",
        "os.mkdir('/content/data/train/images')\n",
        "os.mkdir('/content/data/train/labels')\n",
        "os.mkdir('/content/data/test/images')\n",
        "os.mkdir('/content/data/test/labels')\n",
        "os.mkdir('/content/data/val/images')\n",
        "os.mkdir('/content/data/val/labels')"
      ],
      "metadata": {
        "id": "IK6z1cJnkS7P"
      },
      "execution_count": null,
      "outputs": []
    },
    {
      "cell_type": "markdown",
      "source": [
        "In the below code, I added image names of in the dataset in the list. Because I used it when created the dataset."
      ],
      "metadata": {
        "id": "xreD-YMhNe4u"
      }
    },
    {
      "cell_type": "code",
      "source": [
        "metarial = []\n",
        "\n",
        "for i in os.listdir(\"/content/face-mask-detection/images\"):\n",
        "    srt = i[:-4]\n",
        "    metarial.append(srt)"
      ],
      "metadata": {
        "id": "s9IJuK16kuwY"
      },
      "execution_count": null,
      "outputs": []
    },
    {
      "cell_type": "code",
      "source": [
        "len(metarial)"
      ],
      "metadata": {
        "id": "IjXSCy4Ik6Am"
      },
      "execution_count": null,
      "outputs": []
    },
    {
      "cell_type": "code",
      "source": [
        "# a few image names of in the dataset\n",
        "metarial[0:10]"
      ],
      "metadata": {
        "id": "3w7H3OGDk8jo"
      },
      "execution_count": null,
      "outputs": []
    },
    {
      "cell_type": "markdown",
      "source": [
        "In the below code, Created function. Actually, I split the dataset into train, test and val."
      ],
      "metadata": {
        "id": "ReDEl8WEO_bd"
      }
    },
    {
      "cell_type": "code",
      "source": [
        "def preparinbdata(main_txt_file, main_img_file, train_size, test_size, val_size):\n",
        "\n",
        "    for i in range(0,train_size):\n",
        "\n",
        "        source_txt = main_txt_file + \"/\" + metarial[i] + \".txt\"\n",
        "        source_img = main_img_file + \"/\" + metarial[i] + \".png\"\n",
        "\n",
        "        mstring = metarial[i]\n",
        "        train_destination_txt = \"/content/data/train/labels\" + \"/\" + metarial[i] + \".txt\"\n",
        "        train_destination_png = \"/content/data/train/images\" + \"/\" + metarial[i] + \".png\"\n",
        "\n",
        "        shutil.copy(source_txt, train_destination_txt)\n",
        "        shutil.copy(source_img, train_destination_png)\n",
        "\n",
        "        #metarial.remove(file_name[:-4])\n",
        "\n",
        "\n",
        "    for l in range(train_size , train_size + test_size):\n",
        "\n",
        "        source_txt = main_txt_file + \"/\" + metarial[l] + \".txt\"\n",
        "        source_img = main_img_file + \"/\" + metarial[l] + \".png\"\n",
        "\n",
        "        mstring = metarial[l]\n",
        "        test_destination_txt = \"/content/data/test/labels\" + \"/\" + metarial[l] + \".txt\"\n",
        "        test_destination_png = \"/content/data/test/images\" + \"/\" + metarial[l] + \".png\"\n",
        "\n",
        "        shutil.copy(source_txt, test_destination_txt)\n",
        "        shutil.copy(source_img, test_destination_png)\n",
        "\n",
        "        #metarial.remove(file_name[:-4])\n",
        "\n",
        "\n",
        "    for n in range(train_size + test_size , train_size + test_size + val_size):\n",
        "\n",
        "        source_txt = main_txt_file + \"/\" + metarial[n] + \".txt\"\n",
        "        source_img = main_img_file + \"/\" + metarial[n] + \".png\"\n",
        "\n",
        "        mstring = metarial[n]\n",
        "        val_destination_txt = \"/content/data/val/labels\" + \"/\" + metarial[n] + \".txt\"\n",
        "        val_destination_png = \"/content/data/val/images\" + \"/\" + metarial[n] + \".png\"\n",
        "\n",
        "        shutil.copy(source_txt, val_destination_txt)\n",
        "        shutil.copy(source_img, val_destination_png)\n",
        "\n",
        "        #metarial.remove(file_name[:-4])"
      ],
      "metadata": {
        "id": "5ofBf7SkksdJ"
      },
      "execution_count": null,
      "outputs": []
    },
    {
      "cell_type": "code",
      "source": [
        "preparinbdata(\"/content/labels\", \"/content/face-mask-detection/images\", 603, 150, 100)"
      ],
      "metadata": {
        "id": "nh77o46elMT5"
      },
      "execution_count": null,
      "outputs": []
    },
    {
      "cell_type": "markdown",
      "source": [
        "I created \".yaml\" folder."
      ],
      "metadata": {
        "id": "9SYKwcCPPkWg"
      }
    },
    {
      "cell_type": "code",
      "source": [
        "# configure .yaml file to guide the model for training\n",
        "%cd /content/data\n",
        "\n",
        "yaml_text = \"\"\"train: /content/data/train/images\n",
        "val: /content/data/val/images\n",
        "\n",
        "nc: 3\n",
        "names: [\"without_mask\", \"with_mask\", \"mask_weared_incorrect\"]\"\"\"\n",
        "\n",
        "with open(\"/content/data/data.yaml\", 'w') as file:\n",
        "    file.write(yaml_text)\n",
        "\n",
        "%cat data/data.yaml"
      ],
      "metadata": {
        "id": "ZJQo8JVJl_yH"
      },
      "execution_count": null,
      "outputs": []
    },
    {
      "cell_type": "markdown",
      "source": [
        "# Yolov7\n",
        "In this chapter, I used the yolov7."
      ],
      "metadata": {
        "id": "DUcm-luhmPz6"
      }
    },
    {
      "cell_type": "markdown",
      "source": [
        "## Download Yolov7\n",
        "In this chapter, I downloaded the yolov7 library and the pre-trained \".pt\" file."
      ],
      "metadata": {
        "id": "rBLSv0DomTAd"
      }
    },
    {
      "cell_type": "code",
      "source": [
        "!# Download YOLOv7 code\n",
        "%cd /content/\n",
        "!git clone https://github.com/WongKinYiu/yolov7\n",
        "%cd yolov7\n",
        "!ls"
      ],
      "metadata": {
        "id": "YpnYvhqemaWo"
      },
      "execution_count": null,
      "outputs": []
    },
    {
      "cell_type": "code",
      "source": [
        "!# Download trained weights\n",
        "!wget https://github.com/WongKinYiu/yolov7/releases/download/v0.1/yolov7.pt"
      ],
      "metadata": {
        "id": "13icCZJMmi2O"
      },
      "execution_count": null,
      "outputs": []
    },
    {
      "cell_type": "markdown",
      "source": [
        "## Traning\n",
        "In this chapter, I made to train with yolov7 and the dataset."
      ],
      "metadata": {
        "id": "RozQyUep7y-d"
      }
    },
    {
      "cell_type": "code",
      "source": [
        "%cd /content/"
      ],
      "metadata": {
        "id": "AkU8_27KS57v"
      },
      "execution_count": null,
      "outputs": []
    },
    {
      "cell_type": "code",
      "source": [
        "# Train\n",
        "!python /content/yolov7/train.py --workers 8 --device 0 --batch-size 16 --epochs 50 --data /content/data/data.yaml  --cfg /content/yolov7/cfg/training/yolov7.yaml --weights '' --name yolov7_1 --hyp /content/yolov7/data/hyp.scratch.p5.yaml"
      ],
      "metadata": {
        "id": "3t7-N5sZm04Y"
      },
      "execution_count": null,
      "outputs": []
    },
    {
      "cell_type": "markdown",
      "source": [
        "## Result Visualization\n",
        "In this chapter, I visualized the training result of the yolov7."
      ],
      "metadata": {
        "id": "klDiVtuK8Ew6"
      }
    },
    {
      "cell_type": "code",
      "source": [
        "Image.open(\"/content/runs/train/yolov7_1/results.png\")"
      ],
      "metadata": {
        "id": "KE-LI6TY8Lga"
      },
      "execution_count": null,
      "outputs": []
    },
    {
      "cell_type": "code",
      "source": [
        "Image.open(\"/content/runs/train/yolov7_1/train_batch0.jpg\")"
      ],
      "metadata": {
        "id": "BUao04G1wGB3"
      },
      "execution_count": null,
      "outputs": []
    },
    {
      "cell_type": "code",
      "source": [
        "Image.open(\"/content/runs/train/yolov7_1/train_batch9.jpg\")"
      ],
      "metadata": {
        "id": "x7FbNa3EwNkC"
      },
      "execution_count": null,
      "outputs": []
    },
    {
      "cell_type": "markdown",
      "source": [
        "In the code below, I detected masked and unmasked people in the pictures in the test dataset."
      ],
      "metadata": {
        "id": "-z96oS0f0loJ"
      }
    },
    {
      "cell_type": "code",
      "source": [
        "!# Detection\n",
        "!python /content/yolov7/detect.py --weights /content/runs/train/yolov7_1/weights/best.pt --conf 0.25 --img-size 640 --source /content/data/test/images/"
      ],
      "metadata": {
        "id": "Bw3MYYouxw9X"
      },
      "execution_count": null,
      "outputs": []
    },
    {
      "cell_type": "markdown",
      "source": [
        "I visualized results of test detected."
      ],
      "metadata": {
        "id": "3yJrBFjL1f2V"
      }
    },
    {
      "cell_type": "code",
      "source": [
        "Image.open(\"/content/runs/detect/exp/maksssksksss1.png\")"
      ],
      "metadata": {
        "id": "NBMDYpXvx89V"
      },
      "execution_count": null,
      "outputs": []
    },
    {
      "cell_type": "code",
      "source": [
        "Image.open(\"/content/runs/detect/exp/maksssksksss505.png\")"
      ],
      "metadata": {
        "id": "VaQMSBV4yFss"
      },
      "execution_count": null,
      "outputs": []
    },
    {
      "cell_type": "markdown",
      "source": [
        "## Detection\n",
        "In this part, I detected the masked and unmasked people in a random photo I downloaded from the internet with the yolov7 library."
      ],
      "metadata": {
        "id": "8bdcwNtK73hz"
      }
    },
    {
      "cell_type": "code",
      "source": [
        "# I downloaded one image for use at the detect.\n",
        "%cd /content\n",
        "!wget \"https://onecms-res.cloudinary.com/image/upload/s--XV7DHKzY--/c_fill,g_auto,h_468,w_830/f_auto,q_auto/people-wearing-mask-at-orchard-road-singapore-feb-3--49-.jpg?itok=GdDk1T6A\""
      ],
      "metadata": {
        "id": "pp6X4b4Px0tq"
      },
      "execution_count": null,
      "outputs": []
    },
    {
      "cell_type": "code",
      "source": [
        "!# Detection\n",
        "!python //content//yolov7//detect.py --weights /content/model/model_r101_2_class.pt --conf 0.25 --img-size 640 --source //content//12_58_5000.png"
      ],
      "metadata": {
        "id": "ezE4O0LPxxeF"
      },
      "execution_count": null,
      "outputs": []
    },
    {
      "cell_type": "code",
      "source": [
        "# Image.open(\"/content/runs/detect/exp3/image0.jpg\")"
      ],
      "metadata": {
        "id": "gjkmLMq-yoLZ"
      },
      "execution_count": null,
      "outputs": []
    },
    {
      "cell_type": "markdown",
      "source": [
        "# CONCLUSION"
      ],
      "metadata": {
        "id": "c9Ke0MF9zuEy"
      }
    },
    {
      "cell_type": "code",
      "source": [
        "from google.colab import drive\n",
        "drive.mount('/content/drive')"
      ],
      "metadata": {
        "id": "C8PJz5hZUAFV"
      },
      "execution_count": null,
      "outputs": []
    },
    {
      "cell_type": "code",
      "source": [
        "!unzip \"/content/drive/MyDrive/model_r101_2_class.zip\" -d \"/content/model/\""
      ],
      "metadata": {
        "id": "TXAsrxhZUU0N"
      },
      "execution_count": null,
      "outputs": []
    }
  ]
}